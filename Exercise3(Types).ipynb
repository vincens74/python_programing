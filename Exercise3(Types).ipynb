{
  "nbformat": 4,
  "nbformat_minor": 0,
  "metadata": {
    "colab": {
      "provenance": [],
      "authorship_tag": "ABX9TyMe7Tj1i2IaRNUChYfhtejl",
      "include_colab_link": true
    },
    "kernelspec": {
      "name": "python3",
      "display_name": "Python 3"
    },
    "language_info": {
      "name": "python"
    }
  },
  "cells": [
    {
      "cell_type": "markdown",
      "metadata": {
        "id": "view-in-github",
        "colab_type": "text"
      },
      "source": [
        "<a href=\"https://colab.research.google.com/github/vincens74/python_programing/blob/main/Exercise3(Types).ipynb\" target=\"_parent\"><img src=\"https://colab.research.google.com/assets/colab-badge.svg\" alt=\"Open In Colab\"/></a>"
      ]
    },
    {
      "cell_type": "code",
      "execution_count": 1,
      "metadata": {
        "colab": {
          "base_uri": "https://localhost:8080/"
        },
        "id": "njsCOdM-L1Vm",
        "outputId": "ab1744d5-dd26-446d-a8ad-938e9d2df56b"
      },
      "outputs": [
        {
          "output_type": "execute_result",
          "data": {
            "text/plain": [
              "float"
            ]
          },
          "metadata": {},
          "execution_count": 1
        }
      ],
      "source": [
        "# Exdrcise 3 (Types)\n",
        "# 학번 : 2023195197, 이름 : 최재현\n",
        "\n",
        "type(6/2) # 6/2의 타입은 Float"
      ]
    },
    {
      "cell_type": "code",
      "source": [
        "# Exdrcise 3 (Types)\n",
        "# 학번 : 2023195197, 이름 : 최재현\n",
        "\n",
        "type(6//2) # 6//2 는 정수"
      ],
      "metadata": {
        "colab": {
          "base_uri": "https://localhost:8080/"
        },
        "id": "tp79thuBML80",
        "outputId": "f9669051-2d11-43cc-864a-04d081d9fb23"
      },
      "execution_count": 2,
      "outputs": [
        {
          "output_type": "execute_result",
          "data": {
            "text/plain": [
              "int"
            ]
          },
          "metadata": {},
          "execution_count": 2
        }
      ]
    }
  ]
}