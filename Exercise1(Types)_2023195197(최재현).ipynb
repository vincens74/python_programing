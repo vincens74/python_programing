{
  "nbformat": 4,
  "nbformat_minor": 0,
  "metadata": {
    "colab": {
      "provenance": []
    },
    "kernelspec": {
      "name": "python3",
      "display_name": "Python 3"
    },
    "language_info": {
      "name": "python"
    }
  },
  "cells": [
    {
      "cell_type": "code",
      "execution_count": 1,
      "metadata": {
        "colab": {
          "base_uri": "https://localhost:8080/"
        },
        "id": "k6ULpZnNEZdx",
        "outputId": "8339b07f-21fe-44ac-9815-6e62b6a3b892"
      },
      "outputs": [
        {
          "output_type": "stream",
          "name": "stdout",
          "text": [
            "Hello, World!\n"
          ]
        }
      ],
      "source": [
        "# Exercise1 (Types) 첫번째 숙제\n",
        "# 학번 : 2023195197, 최재현 입니다.\n",
        "print(\"Hello, World!\")"
      ]
    },
    {
      "cell_type": "code",
      "source": [
        "# Exercise1 (Types) 두번째 숙제\n",
        "# 학번 : 2023195197, 최재현 입니다.\n",
        "\n",
        "print(\"Hello, World!\") #Print the traditional hello world"
      ],
      "metadata": {
        "colab": {
          "base_uri": "https://localhost:8080/"
        },
        "id": "oZWLMR7fE6vK",
        "outputId": "639ba3a6-9af2-44ac-aba8-8185700363f0"
      },
      "execution_count": 2,
      "outputs": [
        {
          "output_type": "stream",
          "name": "stdout",
          "text": [
            "Hello, World!\n"
          ]
        }
      ]
    }
  ]
}