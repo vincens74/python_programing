{
 "cells": [
  {
   "cell_type": "code",
   "execution_count": 45,
   "id": "bbadd3b2-e84c-4470-93f6-e9974e0c9981",
   "metadata": {},
   "outputs": [
    {
     "name": "stdout",
     "output_type": "stream",
     "text": [
      "3\n",
      "7\n"
     ]
    }
   ],
   "source": [
    "result = 0\n",
    "\n",
    "def adder(num):\n",
    "    global result\n",
    "    result += num\n",
    "    return result\n",
    "\n",
    "print(adder(3))\n",
    "print(adder(4))"
   ]
  },
  {
   "cell_type": "code",
   "execution_count": 46,
   "id": "42ba78c1-14f9-461b-b3c8-b55bbdcc88cf",
   "metadata": {},
   "outputs": [
    {
     "name": "stdout",
     "output_type": "stream",
     "text": [
      "11\n"
     ]
    }
   ],
   "source": [
    "print(adder(4))"
   ]
  },
  {
   "cell_type": "code",
   "execution_count": 47,
   "id": "c3566338-a259-4b8c-a218-5217cfffbc2b",
   "metadata": {},
   "outputs": [
    {
     "name": "stdout",
     "output_type": "stream",
     "text": [
      "18\n"
     ]
    }
   ],
   "source": [
    "print(adder(7))"
   ]
  },
  {
   "cell_type": "code",
   "execution_count": null,
   "id": "8a91b738-15f2-4da2-9404-e2dc1f29e085",
   "metadata": {},
   "outputs": [],
   "source": []
  },
  {
   "cell_type": "code",
   "execution_count": 54,
   "id": "03048cd8-4f54-4130-bdc5-458d37296ba2",
   "metadata": {},
   "outputs": [
    {
     "name": "stdout",
     "output_type": "stream",
     "text": [
      "3\n",
      "7\n",
      "3\n",
      "10\n"
     ]
    }
   ],
   "source": [
    "result1 =0\n",
    "result2 =0\n",
    "\n",
    "def adder1(num):\n",
    "    global result1\n",
    "    result1 += num\n",
    "    return result1\n",
    "\n",
    "def adder2(num):\n",
    "    global result2\n",
    "    result2 += num\n",
    "    return result2\n",
    "\n",
    "print(adder1(3))\n",
    "print(adder1(4))\n",
    "print(adder2(3))\n",
    "print(adder2(7))"
   ]
  },
  {
   "cell_type": "code",
   "execution_count": null,
   "id": "9ddbf436-f398-4465-b312-68ebbb93282e",
   "metadata": {},
   "outputs": [],
   "source": []
  },
  {
   "cell_type": "code",
   "execution_count": 57,
   "id": "1d19cc7a-bc09-4dfd-913b-092ed4200ab0",
   "metadata": {},
   "outputs": [
    {
     "name": "stdout",
     "output_type": "stream",
     "text": [
      "3\n",
      "7\n",
      "3\n",
      "10\n"
     ]
    }
   ],
   "source": [
    "class Calculator:\n",
    "    def __init__(self):\n",
    "        self.result = 0\n",
    "    def adder(self,num):\n",
    "        self.result += num\n",
    "        return self.result\n",
    "\n",
    "cal1 = Calculator()\n",
    "cal2 = Calculator()\n",
    "\n",
    "print(cal1.adder(3))\n",
    "print(cal1.adder(4))\n",
    "print(cal2.adder(3))\n",
    "print(cal2.adder(7))\n"
   ]
  },
  {
   "cell_type": "code",
   "execution_count": null,
   "id": "afd3b327-b857-40fc-94a3-d886fdbb8fec",
   "metadata": {},
   "outputs": [],
   "source": []
  },
  {
   "cell_type": "code",
   "execution_count": null,
   "id": "e9a61481-95bc-4234-a852-e0457e3b2195",
   "metadata": {},
   "outputs": [],
   "source": []
  },
  {
   "cell_type": "code",
   "execution_count": 11,
   "id": "0bc1dac8-3458-4602-b253-0c90335f35f0",
   "metadata": {},
   "outputs": [],
   "source": [
    "class Service:\n",
    "    secret=\"지구는 4006년에 멸망한다.\"\n",
    "    def setname(self, name):\n",
    "        self.name = name\n",
    "        \n",
    "    def sum(self,a,b):\n",
    "        result = a+b\n",
    "        print(\"%s님 %s + %s = %s이다.\" % (self.name, a,b,result))\n",
    "\n",
    "an=Service()\n",
    "an.setname(\"박달도사\")"
   ]
  },
  {
   "cell_type": "code",
   "execution_count": 12,
   "id": "ca9f9828-9b9e-48f1-b55e-9571d5d27461",
   "metadata": {},
   "outputs": [
    {
     "name": "stdout",
     "output_type": "stream",
     "text": [
      "박달도사님 2 + 3 = 5이다.\n"
     ]
    }
   ],
   "source": [
    "an.sum(2,3)"
   ]
  },
  {
   "cell_type": "code",
   "execution_count": 59,
   "id": "13882f1f-fe7c-4ee8-95ba-8dbe004c5c4a",
   "metadata": {},
   "outputs": [],
   "source": [
    "lee=Service(\"최재현\")"
   ]
  },
  {
   "cell_type": "code",
   "execution_count": 60,
   "id": "77c72141-0476-489a-b929-0ce74f0aaac2",
   "metadata": {},
   "outputs": [
    {
     "name": "stdout",
     "output_type": "stream",
     "text": [
      "최재현님 1 + 1 = 2이다.\n"
     ]
    }
   ],
   "source": [
    "lee.sum(1,1)"
   ]
  },
  {
   "cell_type": "code",
   "execution_count": 6,
   "id": "a19a5d74-2d6e-47d7-84c0-d578483f7f7c",
   "metadata": {},
   "outputs": [
    {
     "data": {
      "text/plain": [
       "3"
      ]
     },
     "execution_count": 6,
     "metadata": {},
     "output_type": "execute_result"
    }
   ],
   "source": [
    "class Calculator:\n",
    "    def __init__(self):\n",
    "        self.result=0\n",
    "    def adder(self,num):\n",
    "        self.result +=num\n",
    "        return self.result\n",
    "\n",
    "cal1=Calculator()\n",
    "cal1.adder(3)"
   ]
  },
  {
   "cell_type": "code",
   "execution_count": 7,
   "id": "0d43751c-2cf0-473d-a194-f48633c73295",
   "metadata": {},
   "outputs": [
    {
     "data": {
      "text/plain": [
       "8"
      ]
     },
     "execution_count": 7,
     "metadata": {},
     "output_type": "execute_result"
    }
   ],
   "source": [
    "cal1.adder(5)"
   ]
  },
  {
   "cell_type": "code",
   "execution_count": 15,
   "id": "8228ed8b-3ba6-4035-b976-89422b5f9763",
   "metadata": {},
   "outputs": [],
   "source": [
    "class Service:\n",
    "    secret=\"지구는 4006년에 멸망한다.\"\n",
    "    def __init__(self, name):\n",
    "        self.name = name\n",
    "        \n",
    "    def sum(self,a,b):\n",
    "        result = a+b\n",
    "        print(\"%s님 %s + %s = %s이다.\" % (self.name, a,b,result))"
   ]
  },
  {
   "cell_type": "code",
   "execution_count": 16,
   "id": "d685c9f8-4f31-4a30-a941-4589d15892af",
   "metadata": {},
   "outputs": [],
   "source": [
    "an=Service(\"빈센트\")"
   ]
  },
  {
   "cell_type": "code",
   "execution_count": 17,
   "id": "645950b9-a9c3-4cab-b4c9-0979e405268e",
   "metadata": {},
   "outputs": [
    {
     "name": "stdout",
     "output_type": "stream",
     "text": [
      "빈센트님 1 + 2 = 3이다.\n"
     ]
    }
   ],
   "source": [
    "an.sum(1,2)"
   ]
  },
  {
   "cell_type": "code",
   "execution_count": null,
   "id": "20b48013-43ce-426c-9dd3-d36792378eaa",
   "metadata": {},
   "outputs": [],
   "source": []
  },
  {
   "cell_type": "code",
   "execution_count": 37,
   "id": "03407ad7-27f2-4588-ae85-de324dbb8c61",
   "metadata": {},
   "outputs": [],
   "source": [
    " class Fourcal:\n",
    "     def setdata(self,first,second):\n",
    "         self.first = first\n",
    "         self.second = second\n",
    "     def sum(self):\n",
    "         result = self.first + self.second\n",
    "         return result\n",
    "     def mul(self):\n",
    "         result = self.first * self.second\n",
    "         return result \n",
    "     def sub(self):\n",
    "         result = self.first - self.second\n",
    "         return result \n",
    "     def div(self):\n",
    "         result = self.first / self.second\n",
    "         return result "
   ]
  },
  {
   "cell_type": "code",
   "execution_count": 38,
   "id": "cb7a921e-606b-44be-9799-b71c8e05a36f",
   "metadata": {},
   "outputs": [],
   "source": [
    "a = Fourcal()"
   ]
  },
  {
   "cell_type": "code",
   "execution_count": 39,
   "id": "c82e0a27-6af6-4334-af0d-cef9dcf18b5b",
   "metadata": {},
   "outputs": [],
   "source": [
    "a.setdata(6,2)"
   ]
  },
  {
   "cell_type": "code",
   "execution_count": 40,
   "id": "84d717b2-8c86-4f3e-b0b0-4d39b77cbab5",
   "metadata": {},
   "outputs": [
    {
     "data": {
      "text/plain": [
       "8"
      ]
     },
     "execution_count": 40,
     "metadata": {},
     "output_type": "execute_result"
    }
   ],
   "source": [
    "a.sum()"
   ]
  },
  {
   "cell_type": "code",
   "execution_count": 41,
   "id": "d39a902a-bf14-441f-980f-b585fcc47342",
   "metadata": {},
   "outputs": [
    {
     "data": {
      "text/plain": [
       "12"
      ]
     },
     "execution_count": 41,
     "metadata": {},
     "output_type": "execute_result"
    }
   ],
   "source": [
    "a.mul()"
   ]
  },
  {
   "cell_type": "code",
   "execution_count": 42,
   "id": "7e317cf5-7473-4f8f-8b4c-4190e5057931",
   "metadata": {},
   "outputs": [
    {
     "data": {
      "text/plain": [
       "4"
      ]
     },
     "execution_count": 42,
     "metadata": {},
     "output_type": "execute_result"
    }
   ],
   "source": [
    "a.sub()"
   ]
  },
  {
   "cell_type": "code",
   "execution_count": 43,
   "id": "3dbab626-4dc6-4db5-ab69-2c406319c7e9",
   "metadata": {},
   "outputs": [
    {
     "data": {
      "text/plain": [
       "3.0"
      ]
     },
     "execution_count": 43,
     "metadata": {},
     "output_type": "execute_result"
    }
   ],
   "source": [
    "a.div()"
   ]
  },
  {
   "cell_type": "code",
   "execution_count": null,
   "id": "f81e3b93-999e-4190-a0ef-781c9fad3b99",
   "metadata": {},
   "outputs": [],
   "source": []
  }
 ],
 "metadata": {
  "kernelspec": {
   "display_name": "Python 3 (ipykernel)",
   "language": "python",
   "name": "python3"
  },
  "language_info": {
   "codemirror_mode": {
    "name": "ipython",
    "version": 3
   },
   "file_extension": ".py",
   "mimetype": "text/x-python",
   "name": "python",
   "nbconvert_exporter": "python",
   "pygments_lexer": "ipython3",
   "version": "3.12.0"
  }
 },
 "nbformat": 4,
 "nbformat_minor": 5
}
